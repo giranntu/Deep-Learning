{
 "cells": [
  {
   "cell_type": "code",
   "execution_count": 5,
   "metadata": {
    "collapsed": false
   },
   "outputs": [],
   "source": [
    "import numpy as np\n",
    "import pandas as pd\n",
    "import glob\n",
    "import os\n",
    "import re\n",
    "import pickle\n",
    "import matplotlib.pyplot as plt\n",
    "\n",
    "import sklearn\n",
    "from sklearn import cross_validation\n",
    "from sklearn.metrics import accuracy_score, confusion_matrix\n",
    "from sklearn.svm import SVC, LinearSVC\n",
    "from sklearn.calibration import CalibratedClassifierCV\n",
    "from sklearn import svm\n",
    "\n",
    "import tensorflow as tf\n",
    "import tensorflow.python.platform\n",
    "from tensorflow.python.platform import gfile\n",
    "\n",
    "\n",
    "model_dir = 'data/precomputed/svm/'\n",
    "images_dir = 'data/train_full/'\n",
    "list_images = glob.glob('{}/*/*g'.format(images_dir))"
   ]
  },
  {
   "cell_type": "code",
   "execution_count": 6,
   "metadata": {
    "collapsed": true
   },
   "outputs": [],
   "source": [
    "# setup tensorFlow graph initiation\n",
    "def create_graph():\n",
    "    with gfile.FastGFile(os.path.join(model_dir, 'inceptionv3.pb'), 'rb') as f:\n",
    "        graph_def = tf.GraphDef()\n",
    "        graph_def.ParseFromString(f.read())\n",
    "        _ = tf.import_graph_def(graph_def, name='')"
   ]
  },
  {
   "cell_type": "code",
   "execution_count": 7,
   "metadata": {
    "collapsed": true
   },
   "outputs": [],
   "source": [
    "# extract all features from pool layer of InceptionV3\n",
    "def extract_trn_feat(list_images):\n",
    "    nb_features = 2048\n",
    "    features = np.empty((len(list_images), nb_features))\n",
    "    labels = []\n",
    "    create_graph()   \n",
    "    with tf.Session() as sess:\n",
    "        next_to_last_tensor = sess.graph.get_tensor_by_name('pool_3:0')\n",
    "        \n",
    "        for ind, image in enumerate(list_images):           \n",
    "            if not gfile.Exists(image):\n",
    "                tf.logging.fatal('File does not exist %s', image)\n",
    "            image_data = gfile.FastGFile(image, 'rb').read()\n",
    "            predictions = sess.run(next_to_last_tensor,\n",
    "            {'DecodeJpeg/contents:0': image_data})\n",
    "            features[ind,:] = np.squeeze(predictions)\n",
    "            labels.append(image.split(\"/\")[2])\n",
    "            \n",
    "        return features, labels"
   ]
  },
  {
   "cell_type": "code",
   "execution_count": 8,
   "metadata": {
    "collapsed": false,
    "scrolled": true
   },
   "outputs": [],
   "source": [
    "features, labels = extract_trn_feat(list_images)\n",
    "\n",
    "pickle.dump(features, open('data/precomputed/svm/features', 'wb'))\n",
    "pickle.dump(labels, open('data/precomputed/svm/labels', 'wb'))\n",
    "\n",
    "features = pickle.load(open('data/precomputed/svm/features', 'rb'))\n",
    "labels = pickle.load(open('data/precomputed/svm/labels', 'rb'))"
   ]
  },
  {
   "cell_type": "code",
   "execution_count": 9,
   "metadata": {
    "collapsed": true
   },
   "outputs": [],
   "source": [
    "clf = svm.SVC(kernel='linear', C=0.1, probability=True)"
   ]
  },
  {
   "cell_type": "code",
   "execution_count": 10,
   "metadata": {
    "collapsed": false
   },
   "outputs": [],
   "source": [
    "final_model = CalibratedClassifierCV(clf, cv=10, method='sigmoid')\n",
    "final_model = clf.fit(features, labels)"
   ]
  },
  {
   "cell_type": "code",
   "execution_count": 13,
   "metadata": {
    "collapsed": true
   },
   "outputs": [],
   "source": [
    "test_dir = 'data/test/test_stg1/'\n",
    "test_images = [test_dir+f for f in os.listdir(test_dir) if re.search('jpg|JPG', f)]"
   ]
  },
  {
   "cell_type": "code",
   "execution_count": 14,
   "metadata": {
    "collapsed": true
   },
   "outputs": [],
   "source": [
    "def extract_tst_feat(list_images):\n",
    "    nb_features = 2048\n",
    "    features = np.empty((len(list_images), nb_features))\n",
    "    create_graph()\n",
    "    with tf.Session() as sess:\n",
    "        next_to_last_tensor = sess.graph.get_tensor_by_name('pool_3:0')\n",
    "        \n",
    "        for ind, image in enumerate(list_images):\n",
    "            if not gfile.Exists(image):\n",
    "                tf.logging.fatal('File does not exist %s', image)\n",
    "            image_data = gfile.FastGFile(image, 'rb').read()\n",
    "            predictions = sess.run(next_to_last_tensor,\n",
    "            {'DecodeJpeg/contents:0': image_data})\n",
    "            features[ind,:] = np.squeeze(predictions)\n",
    "            \n",
    "        return features"
   ]
  },
  {
   "cell_type": "code",
   "execution_count": 15,
   "metadata": {
    "collapsed": true
   },
   "outputs": [],
   "source": [
    "features_test = extract_tst_feat(test_images)\n",
    "y_pred = final_model.predict_proba(features_test)"
   ]
  },
  {
   "cell_type": "code",
   "execution_count": 17,
   "metadata": {
    "collapsed": true
   },
   "outputs": [],
   "source": [
    "image_id = [i.split('/')[3] for i in test_images]\n",
    "\n",
    "submit = open('submissions/svm/-LB_A.csv','w')\n",
    "submit.write('image,ALB,BET,DOL,LAG,NoF,OTHER,SHARK,YFT\\n')\n",
    "\n",
    "for idx, id_n in enumerate(image_id):\n",
    "    probs=['%s' % p for p in list(y_pred[idx, :])]\n",
    "    submit.write('%s,%s\\n' % (str(image_id[idx]),','.join(probs)))\n",
    "\n",
    "submit.close()"
   ]
  }
 ],
 "metadata": {
  "anaconda-cloud": {},
  "kernelspec": {
   "display_name": "Python [conda root]",
   "language": "python",
   "name": "conda-root-py"
  },
  "language_info": {
   "codemirror_mode": {
    "name": "ipython",
    "version": 3
   },
   "file_extension": ".py",
   "mimetype": "text/x-python",
   "name": "python",
   "nbconvert_exporter": "python",
   "pygments_lexer": "ipython3",
   "version": "3.5.2"
  }
 },
 "nbformat": 4,
 "nbformat_minor": 1
}

{
 "cells": [
  {
   "cell_type": "markdown",
   "metadata": {},
   "source": [
    "# Nature Conservancy Fish Classification With PyTorch"
   ]
  },
  {
   "cell_type": "markdown",
   "metadata": {},
   "source": [
    "### Imports & Environment"
   ]
  },
  {
   "cell_type": "code",
   "execution_count": 1,
   "metadata": {
    "collapsed": false
   },
   "outputs": [],
   "source": [
    "import sys\n",
    "import os\n",
    "import os.path\n",
    "import random\n",
    "import collections\n",
    "import shutil\n",
    "import time\n",
    "import glob\n",
    "import csv\n",
    "import numpy as np\n",
    "import pandas as pd\n",
    "\n",
    "import torch\n",
    "import torch.backends.cudnn as cudnn\n",
    "import torch.nn as nn\n",
    "import torch.nn.parallel\n",
    "import torch.optim as optim\n",
    "import torch.utils.data as data\n",
    "import torchvision.datasets as datasets\n",
    "import torchvision.models as models\n",
    "import torchvision.transforms as transforms\n",
    "\n",
    "from PIL import Image\n",
    "\n",
    "ROOT_DIR = os.getcwd()\n",
    "DATA_HOME_DIR = ROOT_DIR + '/data'\n",
    "%matplotlib inline"
   ]
  },
  {
   "cell_type": "markdown",
   "metadata": {},
   "source": [
    "### Config & Hyperparameters"
   ]
  },
  {
   "cell_type": "code",
   "execution_count": 16,
   "metadata": {
    "collapsed": false
   },
   "outputs": [],
   "source": [
    "# paths\n",
    "data_path = DATA_HOME_DIR + '/' \n",
    "split_train_path = data_path + '/train/'\n",
    "full_train_path = data_path + '/train_full/'\n",
    "valid_path = data_path + '/valid/'\n",
    "test_path = DATA_HOME_DIR + '/test/test_stg1/'\n",
    "saved_model_path = ROOT_DIR + '/models/'\n",
    "submission_path = ROOT_DIR + '/submissions/'\n",
    "\n",
    "# data\n",
    "batch_size = 16\n",
    "nb_split_train_samples = 3327\n",
    "nb_full_train_samples = 3777\n",
    "nb_valid_samples = 450\n",
    "nb_test_samples = 1000\n",
    "classes = [\"ALB\", \"BET\", \"DOL\", \"LAG\", \"NoF\", \"OTHER\", \"SHARK\", \"YFT\"]\n",
    "nb_classes = len(classes)\n",
    "\n",
    "# model\n",
    "nb_runs = 1\n",
    "nb_aug = 10\n",
    "epochs = 100\n",
    "lr = 1e-3\n",
    "clip = 0.01\n",
    "archs = [\"resnet152\"]\n",
    "\n",
    "model_names = sorted(name for name in models.__dict__ if name.islower() and not name.startswith(\"__\"))\n",
    "best_prec1 = 1000000"
   ]
  },
  {
   "cell_type": "code",
   "execution_count": 3,
   "metadata": {
    "collapsed": false
   },
   "outputs": [
    {
     "data": {
      "text/plain": [
       "['alexnet',\n",
       " 'resnet',\n",
       " 'resnet101',\n",
       " 'resnet152',\n",
       " 'resnet18',\n",
       " 'resnet34',\n",
       " 'resnet50',\n",
       " 'vgg',\n",
       " 'vgg11',\n",
       " 'vgg11_bn',\n",
       " 'vgg13',\n",
       " 'vgg13_bn',\n",
       " 'vgg16',\n",
       " 'vgg16_bn',\n",
       " 'vgg19',\n",
       " 'vgg19_bn']"
      ]
     },
     "execution_count": 3,
     "metadata": {},
     "output_type": "execute_result"
    }
   ],
   "source": [
    "model_names"
   ]
  },
  {
   "cell_type": "markdown",
   "metadata": {},
   "source": [
    "### Helper Functions for Training"
   ]
  },
  {
   "cell_type": "code",
   "execution_count": 4,
   "metadata": {
    "collapsed": true
   },
   "outputs": [],
   "source": [
    "def train(train_loader, model, criterion, optimizer, epoch):\n",
    "    batch_time = AverageMeter()\n",
    "    data_time = AverageMeter()\n",
    "    losses = AverageMeter()\n",
    "    acc = AverageMeter()\n",
    "    end = time.time()\n",
    "    \n",
    "    # switch to train mode\n",
    "    model.train()\n",
    "    \n",
    "    for i, (images, target) in enumerate(train_loader):\n",
    "        \n",
    "        # measure data loading time\n",
    "        data_time.update(time.time() - end)\n",
    "\n",
    "        target = target.cuda(async=True) - 1\n",
    "        \n",
    "        image_var = torch.autograd.Variable(images)\n",
    "        label_var = torch.autograd.Variable(target)\n",
    "\n",
    "        # compute y_pred\n",
    "        y_pred = model(image_var)\n",
    "        loss = criterion(y_pred, label_var)\n",
    "\n",
    "        # measure accuracy and record loss\n",
    "        prec1, prec1 = accuracy(y_pred.data, target, topk=(1, 1))\n",
    "        losses.update(loss.data[0], images.size(0))\n",
    "        acc.update(prec1[0], images.size(0))\n",
    "\n",
    "        # compute gradient and do SGD step\n",
    "        optimizer.zero_grad()\n",
    "        loss.backward()\n",
    "        optimizer.step()\n",
    "\n",
    "        # measure elapsed time\n",
    "        batch_time.update(time.time() - end)\n",
    "        end = time.time()"
   ]
  },
  {
   "cell_type": "code",
   "execution_count": 5,
   "metadata": {
    "collapsed": true
   },
   "outputs": [],
   "source": [
    "def validate(val_loader, model, criterion, epoch):\n",
    "    batch_time = AverageMeter()\n",
    "    losses = AverageMeter()\n",
    "    acc = AverageMeter()\n",
    "\n",
    "    # switch to evaluate mode\n",
    "    model.eval()\n",
    "\n",
    "    end = time.time()\n",
    "    for i, (images, labels) in enumerate(val_loader):\n",
    "        labels = labels.cuda(async=True)\n",
    "        image_var = torch.autograd.Variable(images, volatile=True)\n",
    "        label_var = torch.autograd.Variable(labels, volatile=True)\n",
    "\n",
    "        # compute y_pred\n",
    "        y_pred = model(image_var)\n",
    "        loss = criterion(y_pred, label_var)\n",
    "\n",
    "        # measure accuracy and record loss\n",
    "        prec1, temp_var = accuracy(y_pred.data, labels, topk=(1, 1))\n",
    "        losses.update(loss.data[0], images.size(0))\n",
    "        acc.update(prec1[0], images.size(0))\n",
    "\n",
    "        # measure elapsed time\n",
    "        batch_time.update(time.time() - end)\n",
    "        end = time.time()\n",
    "\n",
    "    print('   * EPOCH {epoch} | Accuracy: {acc.avg:.3f} | Loss: {losses.avg:.3f}'.format(epoch=epoch+1,\n",
    "                                                                                         acc=acc,\n",
    "                                                                                         losses=losses))\n",
    "\n",
    "    return losses.avg"
   ]
  },
  {
   "cell_type": "code",
   "execution_count": 17,
   "metadata": {
    "collapsed": false
   },
   "outputs": [],
   "source": [
    "def test(test_loader, model):\n",
    "    # placeholder arrays for predictions and id column\n",
    "    preds = np.zeros(shape=(nb_test_samples, nb_classes))\n",
    "    id_col = []\n",
    "    \n",
    "    # switch to evaluate mode\n",
    "    model.eval()\n",
    "    \n",
    "    # average predictions across several different augmentations of the test data\n",
    "    for aug in range(nb_aug):\n",
    "        print(\"   * Predicting on test augmentation {}\".format(aug + 1))\n",
    "        \n",
    "        # iterate through image data, one file at a time (assuming batch size set to 1)\n",
    "        for i, (images, filepath) in enumerate(test_loader):\n",
    "            # grab just the image filename (to match kaggle's submission format)\n",
    "            filepath = filepath[0].split(\"/\")[-1]\n",
    "\n",
    "            # generate prediction from image data variable\n",
    "            image_var = torch.autograd.Variable(images, volatile=True)\n",
    "            y_pred = model(image_var)\n",
    "            \n",
    "            # get the probabilities for each class using softmax activation\n",
    "            smax = nn.Softmax()\n",
    "            smax_out = smax(y_pred)[0].data\n",
    "            \n",
    "            # convert to numpy array\n",
    "            smax_out = np.array([prob for prob in smax_out])\n",
    "            \n",
    "            # add the scaled class probabilities and the image id to the placeholders\n",
    "            preds[i] += smax_out\n",
    "            \n",
    "            if aug == 0:\n",
    "                id_col.append(filepath)\n",
    "       \n",
    "    # convert averaged prediction array to pandas dataframe so we can easily add id column\n",
    "    preds /= nb_aug\n",
    "    pred = pd.DataFrame(preds, columns=[classes])\n",
    "    pred[\"image\"] = id_col\n",
    "    \n",
    "    # filename for our submission file w/ extra info about this test run\n",
    "    sub_fn = submission_path + '{0}epoch_{1}clip_{2}runs_{3}'.format(epochs, clip, nb_runs, nb_aug)\n",
    "    \n",
    "    # add the architecture context to filename\n",
    "    for arch in archs:\n",
    "        sub_fn += \"_{}\".format(arch)\n",
    "        \n",
    "    # write predictions to csv\n",
    "    pred.to_csv(sub_fn + '.csv', index=False)"
   ]
  },
  {
   "cell_type": "code",
   "execution_count": 7,
   "metadata": {
    "collapsed": true
   },
   "outputs": [],
   "source": [
    "def save_checkpoint(state, is_best, filename='checkpoint.pth.tar'):\n",
    "    torch.save(state, filename)\n",
    "    if is_best:\n",
    "        shutil.copyfile(filename, 'model_best.pth.tar')      "
   ]
  },
  {
   "cell_type": "code",
   "execution_count": 8,
   "metadata": {
    "collapsed": true
   },
   "outputs": [],
   "source": [
    "class AverageMeter(object):\n",
    "    \"\"\"Computes and stores the average and current value\"\"\"\n",
    "\n",
    "    def __init__(self):\n",
    "        self.reset()\n",
    "\n",
    "    def reset(self):\n",
    "        self.val = 0\n",
    "        self.avg = 0\n",
    "        self.sum = 0\n",
    "        self.count = 0\n",
    "\n",
    "    def update(self, val, n=1):\n",
    "        self.val = val\n",
    "        self.sum += val * n\n",
    "        self.count += n\n",
    "        self.avg = self.sum / self.count"
   ]
  },
  {
   "cell_type": "code",
   "execution_count": 9,
   "metadata": {
    "collapsed": true
   },
   "outputs": [],
   "source": [
    "def adjust_learning_rate(optimizer, epoch):\n",
    "    \"\"\"Sets the learning rate to the initial LR decayed by 10 every 30 epochs\"\"\"\n",
    "    global lr\n",
    "    lr = lr * (0.1**(epoch // 30))\n",
    "    for param_group in optimizer.state_dict()['param_groups']:\n",
    "        param_group['lr'] = lr\n",
    "\n",
    "\n",
    "def accuracy(y_pred, y_actual, topk=(1, )):\n",
    "    \"\"\"Computes the precision@k for the specified values of k\"\"\"\n",
    "    maxk = max(topk)\n",
    "    batch_size = y_actual.size(0)\n",
    "\n",
    "    _, pred = y_pred.topk(maxk, 1, True, True)\n",
    "    pred = pred.t()\n",
    "    correct = pred.eq(y_actual.view(1, -1).expand_as(pred))\n",
    "\n",
    "    res = []\n",
    "    for k in topk:\n",
    "        correct_k = correct[:k].view(-1).float().sum(0)\n",
    "        res.append(correct_k.mul_(100.0 / batch_size))\n",
    "\n",
    "    return res"
   ]
  },
  {
   "cell_type": "code",
   "execution_count": 10,
   "metadata": {
    "collapsed": true
   },
   "outputs": [],
   "source": [
    "class TestImageFolder(data.Dataset):\n",
    "    def __init__(self, root, transform=None):\n",
    "        images = []\n",
    "        for filename in sorted(glob.glob(test_path + \"*.jpg\")):\n",
    "            images.append('{}'.format(filename))\n",
    "\n",
    "        self.root = root\n",
    "        self.imgs = images\n",
    "        self.transform = transform\n",
    "\n",
    "    def __getitem__(self, index):\n",
    "        filename = self.imgs[index]\n",
    "        img = Image.open(os.path.join(self.root, filename))\n",
    "        if self.transform is not None:\n",
    "            img = self.transform(img)\n",
    "        return img, filename\n",
    "\n",
    "    def __len__(self):\n",
    "        return len(self.imgs)"
   ]
  },
  {
   "cell_type": "code",
   "execution_count": 11,
   "metadata": {
    "collapsed": true
   },
   "outputs": [],
   "source": [
    "def shear(img):\n",
    "    width, height = img.size\n",
    "    m = random.uniform(-0.02, 0.02)\n",
    "    xshift = abs(m) * width\n",
    "    new_width = width + int(round(xshift))\n",
    "    img = img.transform((new_width, height), Image.AFFINE,\n",
    "                        (1, m, -xshift if m > 0 else 0, 0, 1, 0),\n",
    "                        Image.BICUBIC)\n",
    "    return img"
   ]
  },
  {
   "cell_type": "markdown",
   "metadata": {},
   "source": [
    "### Main Training Loop"
   ]
  },
  {
   "cell_type": "code",
   "execution_count": 12,
   "metadata": {
    "collapsed": false,
    "scrolled": true
   },
   "outputs": [],
   "source": [
    "def main(mode=\"train\", resume=False):\n",
    "    \n",
    "    global best_prec1\n",
    "    arch = archs[0]\n",
    "    \n",
    "    # create model\n",
    "    print(\"=> Starting {0} on '{1}' model\".format(mode, arch))\n",
    "    model = models.__dict__[arch](pretrained=True)\n",
    "    # Don't update non-classifier learned features in the pretrained networks\n",
    "    for param in model.parameters():\n",
    "        param.requires_grad = False\n",
    "\n",
    "    # Replace the last fully-connected layer\n",
    "    # Parameters of newly constructed modules have requires_grad=True by default\n",
    "\n",
    "    output_dim = {\n",
    "        \"resnet101\": 2048,\n",
    "        \"resnet152\": 2048,\n",
    "    }\n",
    "\n",
    "    model.fc = nn.Linear(output_dim[arch], nb_classes)  \n",
    "\n",
    "    if arch.startswith('alexnet') or arch.startswith('vgg'):\n",
    "        model.features = torch.nn.DataParallel(model.features)\n",
    "        model.cuda()\n",
    "    else:\n",
    "        model = torch.nn.DataParallel(model).cuda()\n",
    "\n",
    "    # optionally resume from a checkpoint\n",
    "    if resume:\n",
    "        if os.path.isfile(resume):\n",
    "            print(\"=> Loading checkpoint '{}'\".format(resume))\n",
    "            checkpoint = torch.load(resume)\n",
    "            start_epoch = checkpoint['epoch']\n",
    "            best_prec1 = checkpoint['best_prec1']\n",
    "            model.load_state_dict(checkpoint['state_dict'])\n",
    "            print(\"=> Loaded checkpoint (epoch {})\".format(checkpoint['epoch']))\n",
    "        else:\n",
    "            print(\"=> No checkpoint found at '{}'\".format(resume))\n",
    "\n",
    "    cudnn.benchmark = True\n",
    "\n",
    "    # Data loading code\n",
    "    traindir = split_train_path\n",
    "    valdir = valid_path\n",
    "    testdir = test_path\n",
    "\n",
    "    normalize = transforms.Normalize(mean=[0.485, 0.456, 0.406], std=[0.229, 0.224, 0.225])\n",
    "\n",
    "    train_loader = data.DataLoader(\n",
    "        datasets.ImageFolder(traindir,\n",
    "                             transforms.Compose([\n",
    "                                 transforms.Scale(400),\n",
    "                                 transforms.RandomSizedCrop(224),\n",
    "                                 transforms.RandomHorizontalFlip(),\n",
    "                                 transforms.ToTensor(),\n",
    "                                 normalize,\n",
    "                             ])),\n",
    "        batch_size=batch_size,\n",
    "        shuffle=True,\n",
    "        num_workers=4,\n",
    "        pin_memory=True)\n",
    "\n",
    "    val_loader = data.DataLoader(\n",
    "        datasets.ImageFolder(valdir,\n",
    "                             transforms.Compose([\n",
    "                                 transforms.Scale(400),\n",
    "                                 transforms.RandomSizedCrop(224),\n",
    "                                 transforms.ToTensor(),\n",
    "                                 normalize,\n",
    "                             ])),\n",
    "        batch_size=batch_size,\n",
    "        shuffle=True,\n",
    "        num_workers=4,\n",
    "        pin_memory=True)\n",
    "\n",
    "    test_loader = data.DataLoader(\n",
    "        TestImageFolder(testdir,\n",
    "                        transforms.Compose([\n",
    "                            transforms.Scale(400),\n",
    "                            transforms.RandomSizedCrop(224),\n",
    "                            transforms.RandomHorizontalFlip(),\n",
    "                            transforms.ToTensor(),\n",
    "                            normalize,\n",
    "                        ])),\n",
    "        batch_size=1,\n",
    "        shuffle=False,\n",
    "        num_workers=1,\n",
    "        pin_memory=False)\n",
    "\n",
    "\n",
    "    if mode == \"test\":\n",
    "        test(test_loader, model)\n",
    "        return\n",
    "\n",
    "    # define loss function (criterion) and pptimizer\n",
    "    criterion = nn.CrossEntropyLoss().cuda()\n",
    "\n",
    "    if mode == \"validate\":\n",
    "        validate(val_loader, model, criterion, 0)\n",
    "        return\n",
    "\n",
    "    optimizer = optim.Adam(model.module.fc.parameters(), lr, weight_decay=1e-4)\n",
    "\n",
    "    for epoch in range(epochs):\n",
    "        adjust_learning_rate(optimizer, epoch)\n",
    "\n",
    "        # train for one epoch\n",
    "        train(train_loader, model, criterion, optimizer, epoch)\n",
    "\n",
    "        # evaluate on validation set\n",
    "        prec1 = validate(val_loader, model, criterion, epoch)\n",
    "\n",
    "        # remember best Accuracy and save checkpoint\n",
    "        is_best = prec1 < best_prec1\n",
    "        best_prec1 = min(prec1, best_prec1)\n",
    "        save_checkpoint({\n",
    "            'epoch': epoch + 1,\n",
    "            'arch': arch,\n",
    "            'state_dict': model.state_dict(),\n",
    "            'best_prec1': best_prec1,\n",
    "        }, is_best)"
   ]
  },
  {
   "cell_type": "markdown",
   "metadata": {},
   "source": [
    "### Run Train"
   ]
  },
  {
   "cell_type": "code",
   "execution_count": 13,
   "metadata": {
    "collapsed": false,
    "scrolled": true
   },
   "outputs": [
    {
     "name": "stdout",
     "output_type": "stream",
     "text": [
      "=> Starting train on 'resnet152' model\n",
      "   * EPOCH 1 | Accuracy: 58.667 | Loss: 1.177\n",
      "   * EPOCH 2 | Accuracy: 59.111 | Loss: 1.109\n",
      "   * EPOCH 3 | Accuracy: 58.000 | Loss: 1.053\n",
      "   * EPOCH 4 | Accuracy: 62.000 | Loss: 0.998\n",
      "   * EPOCH 5 | Accuracy: 63.333 | Loss: 1.035\n",
      "   * EPOCH 6 | Accuracy: 64.667 | Loss: 1.011\n",
      "   * EPOCH 7 | Accuracy: 61.778 | Loss: 1.062\n",
      "   * EPOCH 8 | Accuracy: 66.222 | Loss: 1.028\n",
      "   * EPOCH 9 | Accuracy: 68.444 | Loss: 0.861\n",
      "   * EPOCH 10 | Accuracy: 70.667 | Loss: 0.841\n",
      "   * EPOCH 11 | Accuracy: 59.556 | Loss: 1.095\n",
      "   * EPOCH 12 | Accuracy: 72.222 | Loss: 0.823\n",
      "   * EPOCH 13 | Accuracy: 69.333 | Loss: 0.855\n",
      "   * EPOCH 14 | Accuracy: 70.444 | Loss: 0.905\n",
      "   * EPOCH 15 | Accuracy: 71.778 | Loss: 0.850\n",
      "   * EPOCH 16 | Accuracy: 70.222 | Loss: 0.830\n",
      "   * EPOCH 17 | Accuracy: 68.444 | Loss: 0.851\n",
      "   * EPOCH 18 | Accuracy: 73.333 | Loss: 0.798\n",
      "   * EPOCH 19 | Accuracy: 69.111 | Loss: 0.875\n",
      "   * EPOCH 20 | Accuracy: 68.444 | Loss: 0.849\n",
      "   * EPOCH 21 | Accuracy: 73.333 | Loss: 0.813\n",
      "   * EPOCH 22 | Accuracy: 69.778 | Loss: 0.832\n",
      "   * EPOCH 23 | Accuracy: 66.444 | Loss: 0.909\n",
      "   * EPOCH 24 | Accuracy: 70.889 | Loss: 0.781\n",
      "   * EPOCH 25 | Accuracy: 70.444 | Loss: 0.866\n",
      "   * EPOCH 26 | Accuracy: 70.889 | Loss: 0.791\n",
      "   * EPOCH 27 | Accuracy: 66.889 | Loss: 0.927\n",
      "   * EPOCH 28 | Accuracy: 71.333 | Loss: 0.817\n",
      "   * EPOCH 29 | Accuracy: 71.111 | Loss: 0.790\n",
      "   * EPOCH 30 | Accuracy: 68.889 | Loss: 0.894\n",
      "   * EPOCH 31 | Accuracy: 73.556 | Loss: 0.742\n",
      "   * EPOCH 32 | Accuracy: 72.000 | Loss: 0.810\n",
      "   * EPOCH 33 | Accuracy: 69.778 | Loss: 0.798\n",
      "   * EPOCH 34 | Accuracy: 75.111 | Loss: 0.744\n",
      "   * EPOCH 35 | Accuracy: 70.222 | Loss: 0.798\n",
      "   * EPOCH 36 | Accuracy: 64.667 | Loss: 0.995\n",
      "   * EPOCH 37 | Accuracy: 75.556 | Loss: 0.728\n",
      "   * EPOCH 38 | Accuracy: 72.667 | Loss: 0.785\n",
      "   * EPOCH 39 | Accuracy: 72.667 | Loss: 0.798\n",
      "   * EPOCH 40 | Accuracy: 76.667 | Loss: 0.687\n",
      "   * EPOCH 41 | Accuracy: 74.000 | Loss: 0.812\n",
      "   * EPOCH 42 | Accuracy: 73.333 | Loss: 0.719\n",
      "   * EPOCH 43 | Accuracy: 73.556 | Loss: 0.778\n",
      "   * EPOCH 44 | Accuracy: 75.111 | Loss: 0.691\n",
      "   * EPOCH 45 | Accuracy: 76.667 | Loss: 0.687\n",
      "   * EPOCH 46 | Accuracy: 71.111 | Loss: 0.797\n",
      "   * EPOCH 47 | Accuracy: 74.000 | Loss: 0.767\n",
      "   * EPOCH 48 | Accuracy: 74.444 | Loss: 0.748\n",
      "   * EPOCH 49 | Accuracy: 70.222 | Loss: 0.852\n",
      "   * EPOCH 50 | Accuracy: 76.444 | Loss: 0.723\n",
      "   * EPOCH 51 | Accuracy: 68.444 | Loss: 0.863\n",
      "   * EPOCH 52 | Accuracy: 73.111 | Loss: 0.776\n",
      "   * EPOCH 53 | Accuracy: 76.000 | Loss: 0.774\n",
      "   * EPOCH 54 | Accuracy: 72.667 | Loss: 0.819\n",
      "   * EPOCH 55 | Accuracy: 73.111 | Loss: 0.748\n",
      "   * EPOCH 56 | Accuracy: 76.667 | Loss: 0.691\n",
      "   * EPOCH 57 | Accuracy: 72.444 | Loss: 0.734\n",
      "   * EPOCH 58 | Accuracy: 72.444 | Loss: 0.741\n",
      "   * EPOCH 59 | Accuracy: 74.667 | Loss: 0.743\n",
      "   * EPOCH 60 | Accuracy: 73.778 | Loss: 0.768\n",
      "   * EPOCH 61 | Accuracy: 74.889 | Loss: 0.691\n",
      "   * EPOCH 62 | Accuracy: 73.778 | Loss: 0.713\n",
      "   * EPOCH 63 | Accuracy: 75.778 | Loss: 0.722\n",
      "   * EPOCH 64 | Accuracy: 73.333 | Loss: 0.757\n",
      "   * EPOCH 65 | Accuracy: 75.556 | Loss: 0.695\n",
      "   * EPOCH 66 | Accuracy: 74.222 | Loss: 0.716\n",
      "   * EPOCH 67 | Accuracy: 71.111 | Loss: 0.864\n",
      "   * EPOCH 68 | Accuracy: 72.444 | Loss: 0.733\n",
      "   * EPOCH 69 | Accuracy: 75.333 | Loss: 0.744\n",
      "   * EPOCH 70 | Accuracy: 72.889 | Loss: 0.785\n",
      "   * EPOCH 71 | Accuracy: 77.333 | Loss: 0.681\n",
      "   * EPOCH 72 | Accuracy: 72.667 | Loss: 0.817\n",
      "   * EPOCH 73 | Accuracy: 77.333 | Loss: 0.665\n",
      "   * EPOCH 74 | Accuracy: 75.333 | Loss: 0.734\n",
      "   * EPOCH 75 | Accuracy: 76.889 | Loss: 0.690\n",
      "   * EPOCH 76 | Accuracy: 72.667 | Loss: 0.680\n",
      "   * EPOCH 77 | Accuracy: 76.222 | Loss: 0.680\n",
      "   * EPOCH 78 | Accuracy: 72.889 | Loss: 0.771\n",
      "   * EPOCH 79 | Accuracy: 69.556 | Loss: 0.842\n",
      "   * EPOCH 80 | Accuracy: 71.111 | Loss: 0.791\n",
      "   * EPOCH 81 | Accuracy: 77.778 | Loss: 0.617\n",
      "   * EPOCH 82 | Accuracy: 78.889 | Loss: 0.660\n",
      "   * EPOCH 83 | Accuracy: 75.556 | Loss: 0.753\n",
      "   * EPOCH 84 | Accuracy: 73.111 | Loss: 0.746\n",
      "   * EPOCH 85 | Accuracy: 74.444 | Loss: 0.766\n",
      "   * EPOCH 86 | Accuracy: 76.000 | Loss: 0.693\n",
      "   * EPOCH 87 | Accuracy: 76.667 | Loss: 0.663\n",
      "   * EPOCH 88 | Accuracy: 74.889 | Loss: 0.751\n",
      "   * EPOCH 89 | Accuracy: 76.444 | Loss: 0.724\n",
      "   * EPOCH 90 | Accuracy: 74.667 | Loss: 0.673\n",
      "   * EPOCH 91 | Accuracy: 75.111 | Loss: 0.709\n",
      "   * EPOCH 92 | Accuracy: 75.556 | Loss: 0.757\n",
      "   * EPOCH 93 | Accuracy: 74.444 | Loss: 0.732\n",
      "   * EPOCH 94 | Accuracy: 73.778 | Loss: 0.744\n",
      "   * EPOCH 95 | Accuracy: 72.889 | Loss: 0.805\n",
      "   * EPOCH 96 | Accuracy: 77.556 | Loss: 0.659\n",
      "   * EPOCH 97 | Accuracy: 75.333 | Loss: 0.709\n",
      "   * EPOCH 98 | Accuracy: 76.000 | Loss: 0.688\n",
      "   * EPOCH 99 | Accuracy: 78.889 | Loss: 0.658\n",
      "   * EPOCH 100 | Accuracy: 76.222 | Loss: 0.701\n"
     ]
    }
   ],
   "source": [
    "main(mode=\"train\")"
   ]
  },
  {
   "cell_type": "code",
   "execution_count": 18,
   "metadata": {
    "collapsed": false
   },
   "outputs": [
    {
     "name": "stdout",
     "output_type": "stream",
     "text": [
      "=> Starting validate on 'resnet152' model\n",
      "=> Loading checkpoint 'model_best.pth.tar'\n",
      "=> Loaded checkpoint (epoch 100)\n",
      "   * EPOCH 1 | Accuracy: 81.333 | Loss: 0.647\n"
     ]
    }
   ],
   "source": [
    "main(mode=\"validate\", resume='model_best.pth.tar')"
   ]
  },
  {
   "cell_type": "markdown",
   "metadata": {},
   "source": [
    "### Run Test"
   ]
  },
  {
   "cell_type": "code",
   "execution_count": 19,
   "metadata": {
    "collapsed": false
   },
   "outputs": [
    {
     "name": "stdout",
     "output_type": "stream",
     "text": [
      "=> Starting test on 'resnet152' model\n",
      "=> Loading checkpoint 'model_best.pth.tar'\n",
      "=> Loaded checkpoint (epoch 100)\n",
      "   * Predicting on test augmentation 1\n",
      "   * Predicting on test augmentation 2\n",
      "   * Predicting on test augmentation 3\n",
      "   * Predicting on test augmentation 4\n",
      "   * Predicting on test augmentation 5\n",
      "   * Predicting on test augmentation 6\n",
      "   * Predicting on test augmentation 7\n",
      "   * Predicting on test augmentation 8\n",
      "   * Predicting on test augmentation 9\n",
      "   * Predicting on test augmentation 10\n"
     ]
    }
   ],
   "source": [
    "main(mode=\"test\", resume='model_best.pth.tar')"
   ]
  }
 ],
 "metadata": {
  "anaconda-cloud": {},
  "kernelspec": {
   "display_name": "Python [conda root]",
   "language": "python",
   "name": "conda-root-py"
  },
  "language_info": {
   "codemirror_mode": {
    "name": "ipython",
    "version": 3
   },
   "file_extension": ".py",
   "mimetype": "text/x-python",
   "name": "python",
   "nbconvert_exporter": "python",
   "pygments_lexer": "ipython3",
   "version": "3.5.2"
  }
 },
 "nbformat": 4,
 "nbformat_minor": 1
}

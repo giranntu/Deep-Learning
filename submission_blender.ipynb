{
 "cells": [
  {
   "cell_type": "code",
   "execution_count": 1,
   "metadata": {
    "collapsed": false
   },
   "outputs": [],
   "source": [
    "import numpy as np\n",
    "import pandas as pd\n",
    "import os"
   ]
  },
  {
   "cell_type": "code",
   "execution_count": 2,
   "metadata": {
    "collapsed": false
   },
   "outputs": [],
   "source": [
    "num_subs = 2.0\n",
    "id_col = 'image'\n",
    "base_path = os.path.join(os.path.abspath(os.curdir), \"submissions/\")"
   ]
  },
  {
   "cell_type": "code",
   "execution_count": 3,
   "metadata": {
    "collapsed": false
   },
   "outputs": [
    {
     "data": {
      "text/html": [
       "<div>\n",
       "<table border=\"1\" class=\"dataframe\">\n",
       "  <thead>\n",
       "    <tr style=\"text-align: right;\">\n",
       "      <th></th>\n",
       "      <th>image</th>\n",
       "      <th>ALB</th>\n",
       "      <th>BET</th>\n",
       "      <th>DOL</th>\n",
       "      <th>LAG</th>\n",
       "      <th>NoF</th>\n",
       "      <th>OTHER</th>\n",
       "      <th>SHARK</th>\n",
       "      <th>YFT</th>\n",
       "    </tr>\n",
       "  </thead>\n",
       "  <tbody>\n",
       "    <tr>\n",
       "      <th>0</th>\n",
       "      <td>img_06611.jpg</td>\n",
       "      <td>0.028455</td>\n",
       "      <td>0.025245</td>\n",
       "      <td>0.009709</td>\n",
       "      <td>0.009000</td>\n",
       "      <td>0.009000</td>\n",
       "      <td>0.009000</td>\n",
       "      <td>0.009000</td>\n",
       "      <td>0.935686</td>\n",
       "    </tr>\n",
       "    <tr>\n",
       "      <th>1</th>\n",
       "      <td>img_05915.jpg</td>\n",
       "      <td>0.081032</td>\n",
       "      <td>0.046658</td>\n",
       "      <td>0.017558</td>\n",
       "      <td>0.009000</td>\n",
       "      <td>0.009000</td>\n",
       "      <td>0.010705</td>\n",
       "      <td>0.010801</td>\n",
       "      <td>0.842680</td>\n",
       "    </tr>\n",
       "    <tr>\n",
       "      <th>2</th>\n",
       "      <td>img_05186.jpg</td>\n",
       "      <td>0.579361</td>\n",
       "      <td>0.018089</td>\n",
       "      <td>0.009000</td>\n",
       "      <td>0.009000</td>\n",
       "      <td>0.009000</td>\n",
       "      <td>0.009000</td>\n",
       "      <td>0.010526</td>\n",
       "      <td>0.395828</td>\n",
       "    </tr>\n",
       "    <tr>\n",
       "      <th>3</th>\n",
       "      <td>img_03891.jpg</td>\n",
       "      <td>0.727488</td>\n",
       "      <td>0.223844</td>\n",
       "      <td>0.012512</td>\n",
       "      <td>0.009000</td>\n",
       "      <td>0.009000</td>\n",
       "      <td>0.025972</td>\n",
       "      <td>0.016030</td>\n",
       "      <td>0.015932</td>\n",
       "    </tr>\n",
       "    <tr>\n",
       "      <th>4</th>\n",
       "      <td>img_04073.jpg</td>\n",
       "      <td>0.134555</td>\n",
       "      <td>0.354080</td>\n",
       "      <td>0.017614</td>\n",
       "      <td>0.108959</td>\n",
       "      <td>0.009299</td>\n",
       "      <td>0.049992</td>\n",
       "      <td>0.011424</td>\n",
       "      <td>0.324730</td>\n",
       "    </tr>\n",
       "  </tbody>\n",
       "</table>\n",
       "</div>"
      ],
      "text/plain": [
       "           image       ALB       BET       DOL       LAG       NoF     OTHER  \\\n",
       "0  img_06611.jpg  0.028455  0.025245  0.009709  0.009000  0.009000  0.009000   \n",
       "1  img_05915.jpg  0.081032  0.046658  0.017558  0.009000  0.009000  0.010705   \n",
       "2  img_05186.jpg  0.579361  0.018089  0.009000  0.009000  0.009000  0.009000   \n",
       "3  img_03891.jpg  0.727488  0.223844  0.012512  0.009000  0.009000  0.025972   \n",
       "4  img_04073.jpg  0.134555  0.354080  0.017614  0.108959  0.009299  0.049992   \n",
       "\n",
       "      SHARK       YFT  \n",
       "0  0.009000  0.935686  \n",
       "1  0.010801  0.842680  \n",
       "2  0.010526  0.395828  \n",
       "3  0.016030  0.015932  \n",
       "4  0.011424  0.324730  "
      ]
     },
     "execution_count": 3,
     "metadata": {},
     "output_type": "execute_result"
    }
   ],
   "source": [
    "dfs = []\n",
    "\n",
    "df1 = pd.read_csv(base_path + \"vggbn_conv_640x360/0.887-LB_ABD.csv\")\n",
    "dfs.append(df1)\n",
    "\n",
    "df2 = pd.read_csv(base_path + \"vggbn_480x270/0.886-LB_AB.csv\")\n",
    "dfs.append(df2)\n",
    "\n",
    "# df3 = pd.read_csv(base_path + 'vgg16bn_conv_640x360/0.887-LB_ABD')\n",
    "# dfs.append(df3)\n",
    "\n",
    "# df4 = pd.read_csv(base_path + 'vggbn_480x270/0.887-LB_ABD.csv')\n",
    "# dfs.append(df4)\n",
    "\n",
    "# df5 = pd.read_csv(base_path + '.csv')\n",
    "# dfs.append(df5)\n",
    "\n",
    "# df6 = pd.read_csv(base_path + '.csv')\n",
    "# dfs.append(df6)\n",
    "\n",
    "df1.head()"
   ]
  },
  {
   "cell_type": "code",
   "execution_count": 4,
   "metadata": {
    "collapsed": false
   },
   "outputs": [
    {
     "data": {
      "text/html": [
       "<div>\n",
       "<table border=\"1\" class=\"dataframe\">\n",
       "  <thead>\n",
       "    <tr style=\"text-align: right;\">\n",
       "      <th></th>\n",
       "      <th>image</th>\n",
       "      <th>ALB</th>\n",
       "      <th>BET</th>\n",
       "      <th>DOL</th>\n",
       "      <th>LAG</th>\n",
       "      <th>NoF</th>\n",
       "      <th>OTHER</th>\n",
       "      <th>SHARK</th>\n",
       "      <th>YFT</th>\n",
       "    </tr>\n",
       "  </thead>\n",
       "  <tbody>\n",
       "    <tr>\n",
       "      <th>0</th>\n",
       "      <td>img_06611.jpg</td>\n",
       "      <td>0.0</td>\n",
       "      <td>0.0</td>\n",
       "      <td>0.0</td>\n",
       "      <td>0.0</td>\n",
       "      <td>0.0</td>\n",
       "      <td>0.0</td>\n",
       "      <td>0.0</td>\n",
       "      <td>0.0</td>\n",
       "    </tr>\n",
       "    <tr>\n",
       "      <th>1</th>\n",
       "      <td>img_05915.jpg</td>\n",
       "      <td>0.0</td>\n",
       "      <td>0.0</td>\n",
       "      <td>0.0</td>\n",
       "      <td>0.0</td>\n",
       "      <td>0.0</td>\n",
       "      <td>0.0</td>\n",
       "      <td>0.0</td>\n",
       "      <td>0.0</td>\n",
       "    </tr>\n",
       "    <tr>\n",
       "      <th>2</th>\n",
       "      <td>img_05186.jpg</td>\n",
       "      <td>0.0</td>\n",
       "      <td>0.0</td>\n",
       "      <td>0.0</td>\n",
       "      <td>0.0</td>\n",
       "      <td>0.0</td>\n",
       "      <td>0.0</td>\n",
       "      <td>0.0</td>\n",
       "      <td>0.0</td>\n",
       "    </tr>\n",
       "    <tr>\n",
       "      <th>3</th>\n",
       "      <td>img_03891.jpg</td>\n",
       "      <td>0.0</td>\n",
       "      <td>0.0</td>\n",
       "      <td>0.0</td>\n",
       "      <td>0.0</td>\n",
       "      <td>0.0</td>\n",
       "      <td>0.0</td>\n",
       "      <td>0.0</td>\n",
       "      <td>0.0</td>\n",
       "    </tr>\n",
       "    <tr>\n",
       "      <th>4</th>\n",
       "      <td>img_04073.jpg</td>\n",
       "      <td>0.0</td>\n",
       "      <td>0.0</td>\n",
       "      <td>0.0</td>\n",
       "      <td>0.0</td>\n",
       "      <td>0.0</td>\n",
       "      <td>0.0</td>\n",
       "      <td>0.0</td>\n",
       "      <td>0.0</td>\n",
       "    </tr>\n",
       "  </tbody>\n",
       "</table>\n",
       "</div>"
      ],
      "text/plain": [
       "           image  ALB  BET  DOL  LAG  NoF  OTHER  SHARK  YFT\n",
       "0  img_06611.jpg  0.0  0.0  0.0  0.0  0.0    0.0    0.0  0.0\n",
       "1  img_05915.jpg  0.0  0.0  0.0  0.0  0.0    0.0    0.0  0.0\n",
       "2  img_05186.jpg  0.0  0.0  0.0  0.0  0.0    0.0    0.0  0.0\n",
       "3  img_03891.jpg  0.0  0.0  0.0  0.0  0.0    0.0    0.0  0.0\n",
       "4  img_04073.jpg  0.0  0.0  0.0  0.0  0.0    0.0    0.0  0.0"
      ]
     },
     "execution_count": 4,
     "metadata": {},
     "output_type": "execute_result"
    }
   ],
   "source": [
    "def create_ave_df(df_list):\n",
    "    sample = df_list[0]\n",
    "    ave_df = pd.DataFrame(columns=sample.columns)\n",
    "    ave_df[id_col] = sample[id_col]\n",
    "    ave_df.fillna(0.0, inplace=True)\n",
    "    return ave_df\n",
    "\n",
    "ave_df = create_ave_df(dfs)\n",
    "\n",
    "ave_df.head()"
   ]
  },
  {
   "cell_type": "code",
   "execution_count": 5,
   "metadata": {
    "collapsed": false
   },
   "outputs": [
    {
     "data": {
      "text/html": [
       "<div>\n",
       "<table border=\"1\" class=\"dataframe\">\n",
       "  <thead>\n",
       "    <tr style=\"text-align: right;\">\n",
       "      <th></th>\n",
       "      <th>image</th>\n",
       "      <th>ALB</th>\n",
       "      <th>BET</th>\n",
       "      <th>DOL</th>\n",
       "      <th>LAG</th>\n",
       "      <th>NoF</th>\n",
       "      <th>OTHER</th>\n",
       "      <th>SHARK</th>\n",
       "      <th>YFT</th>\n",
       "    </tr>\n",
       "  </thead>\n",
       "  <tbody>\n",
       "    <tr>\n",
       "      <th>0</th>\n",
       "      <td>img_06611.jpg</td>\n",
       "      <td>0.035374</td>\n",
       "      <td>0.037766</td>\n",
       "      <td>0.009855</td>\n",
       "      <td>0.016070</td>\n",
       "      <td>0.009500</td>\n",
       "      <td>0.009500</td>\n",
       "      <td>0.009500</td>\n",
       "      <td>0.913316</td>\n",
       "    </tr>\n",
       "    <tr>\n",
       "      <th>1</th>\n",
       "      <td>img_05915.jpg</td>\n",
       "      <td>0.047592</td>\n",
       "      <td>0.028329</td>\n",
       "      <td>0.022788</td>\n",
       "      <td>0.009500</td>\n",
       "      <td>0.012514</td>\n",
       "      <td>0.114395</td>\n",
       "      <td>0.010401</td>\n",
       "      <td>0.786188</td>\n",
       "    </tr>\n",
       "    <tr>\n",
       "      <th>2</th>\n",
       "      <td>img_05186.jpg</td>\n",
       "      <td>0.745392</td>\n",
       "      <td>0.014044</td>\n",
       "      <td>0.014807</td>\n",
       "      <td>0.009500</td>\n",
       "      <td>0.009500</td>\n",
       "      <td>0.013142</td>\n",
       "      <td>0.010263</td>\n",
       "      <td>0.224882</td>\n",
       "    </tr>\n",
       "    <tr>\n",
       "      <th>3</th>\n",
       "      <td>img_03891.jpg</td>\n",
       "      <td>0.841904</td>\n",
       "      <td>0.117918</td>\n",
       "      <td>0.011256</td>\n",
       "      <td>0.014431</td>\n",
       "      <td>0.009500</td>\n",
       "      <td>0.017986</td>\n",
       "      <td>0.013015</td>\n",
       "      <td>0.018285</td>\n",
       "    </tr>\n",
       "    <tr>\n",
       "      <th>4</th>\n",
       "      <td>img_04073.jpg</td>\n",
       "      <td>0.078489</td>\n",
       "      <td>0.320696</td>\n",
       "      <td>0.013807</td>\n",
       "      <td>0.086954</td>\n",
       "      <td>0.009650</td>\n",
       "      <td>0.032017</td>\n",
       "      <td>0.010712</td>\n",
       "      <td>0.468598</td>\n",
       "    </tr>\n",
       "  </tbody>\n",
       "</table>\n",
       "</div>"
      ],
      "text/plain": [
       "           image       ALB       BET       DOL       LAG       NoF     OTHER  \\\n",
       "0  img_06611.jpg  0.035374  0.037766  0.009855  0.016070  0.009500  0.009500   \n",
       "1  img_05915.jpg  0.047592  0.028329  0.022788  0.009500  0.012514  0.114395   \n",
       "2  img_05186.jpg  0.745392  0.014044  0.014807  0.009500  0.009500  0.013142   \n",
       "3  img_03891.jpg  0.841904  0.117918  0.011256  0.014431  0.009500  0.017986   \n",
       "4  img_04073.jpg  0.078489  0.320696  0.013807  0.086954  0.009650  0.032017   \n",
       "\n",
       "      SHARK       YFT  \n",
       "0  0.009500  0.913316  \n",
       "1  0.010401  0.786188  \n",
       "2  0.010263  0.224882  \n",
       "3  0.013015  0.018285  \n",
       "4  0.010712  0.468598  "
      ]
     },
     "execution_count": 5,
     "metadata": {},
     "output_type": "execute_result"
    }
   ],
   "source": [
    "def populate_ave_df(ave_df, df_list):\n",
    "    for col in ave_df.columns.values:\n",
    "        if col == id_col:\n",
    "            continue\n",
    "        for df in df_list:\n",
    "            ave_df[col] = ave_df[col] + df[col]\n",
    "        ave_df[col] = ave_df[col] / num_subs\n",
    "    return ave_df\n",
    "\n",
    "ave_df = populate_ave_df(ave_df, dfs)\n",
    "ave_df.head()"
   ]
  },
  {
   "cell_type": "code",
   "execution_count": 6,
   "metadata": {
    "collapsed": false
   },
   "outputs": [],
   "source": [
    "def generate_new_submission(ave_df):\n",
    "    ave_df.to_csv(base_path + '-LB_.csv', index=False)\n",
    "    \n",
    "generate_new_submission(ave_df)"
   ]
  },
  {
   "cell_type": "markdown",
   "metadata": {},
   "source": [
    "## Calculating correlation between submissions"
   ]
  },
  {
   "cell_type": "code",
   "execution_count": 7,
   "metadata": {
    "collapsed": false
   },
   "outputs": [],
   "source": [
    "# dfs = []\n",
    "\n",
    "# for root, dirs, files in os.walk(base_path):\n",
    "#     for fn in [os.path.join(root, name) for name in files]:\n",
    "# #         print fn\n",
    "#         df = pd.read_csv(fn)\n",
    "#         dfs.append(df)\n",
    "        \n",
    "# print len(dfs)"
   ]
  },
  {
   "cell_type": "code",
   "execution_count": 8,
   "metadata": {
    "collapsed": false
   },
   "outputs": [],
   "source": [
    "### using sequential comparisons\n",
    "\n",
    "# filtered_dfs = []\n",
    "\n",
    "# for i in range(len(dfs)-1):\n",
    "#     saved_ids = dfs[i][id_col]\n",
    "#     dfa = dfs[i].drop(id_col, axis=1)\n",
    "#     dfb = dfs[i+1].drop(id_col, axis=1)\n",
    "#     corr = dfa.corrwith(dfb).sum()/dfa.shape[1]\n",
    "# #     print corr\n",
    "    \n",
    "#     if corr < .7:\n",
    "#         dfa[id_col] = saved_ids\n",
    "#         filtered_dfs.append(dfa)\n",
    "\n",
    "# num_subs = len(filtered_dfs)\n",
    "# print \"number meeting criteria:\", num_subs"
   ]
  },
  {
   "cell_type": "code",
   "execution_count": 9,
   "metadata": {
    "collapsed": false
   },
   "outputs": [],
   "source": [
    "### using averages\n",
    "\n",
    "# filtered_dfs = []\n",
    "\n",
    "# for dfa in dfs:\n",
    "#     saved_ids = dfa[id_col]\n",
    "#     dfa = dfa.drop(id_col, axis=1)\n",
    "#     corr_sum = 0.\n",
    "#     for dfb in dfs:\n",
    "#         dfb = dfb.drop(id_col, axis=1)\n",
    "#         corr = dfa.corrwith(dfb).sum()/dfa.shape[1]\n",
    "#         corr_sum += corr\n",
    "#     corr_avg = corr_sum/len(dfs)\n",
    "# #     print corr_avg\n",
    "    \n",
    "#     if corr_avg < .95:\n",
    "#         dfa[id_col] = saved_ids\n",
    "#         filtered_dfs.append(dfa)\n",
    "\n",
    "# num_subs = len(filtered_dfs)\n",
    "# print \"number meeting criteria:\", num_subs"
   ]
  },
  {
   "cell_type": "code",
   "execution_count": 10,
   "metadata": {
    "collapsed": false
   },
   "outputs": [],
   "source": [
    "# ave_df = create_ave_df(filtered_dfs)\n",
    "# ave_df = populate_ave_df(ave_df, filtered_dfs)\n",
    "\n",
    "# ave_df.head()"
   ]
  },
  {
   "cell_type": "code",
   "execution_count": 11,
   "metadata": {
    "collapsed": true
   },
   "outputs": [],
   "source": [
    "# generate_new_submission(ave_df)"
   ]
  }
 ],
 "metadata": {
  "anaconda-cloud": {},
  "kernelspec": {
   "display_name": "Python 3",
   "language": "python",
   "name": "python3"
  },
  "language_info": {
   "codemirror_mode": {
    "name": "ipython",
    "version": 3
   },
   "file_extension": ".py",
   "mimetype": "text/x-python",
   "name": "python",
   "nbconvert_exporter": "python",
   "pygments_lexer": "ipython3",
   "version": "3.6.0"
  }
 },
 "nbformat": 4,
 "nbformat_minor": 0
}
